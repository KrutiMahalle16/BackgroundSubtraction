{
  "cells": [
    {
      "cell_type": "code",
      "execution_count": null,
      "id": "390e3f47-ca6a-4a58-a508-a7e2cf46c0ef",
      "metadata": {
        "id": "390e3f47-ca6a-4a58-a508-a7e2cf46c0ef"
      },
      "outputs": [],
      "source": [
        "import cv2\n",
        "import numpy as np\n",
        "# Open video capture\n",
        "cap = cv2.VideoCapture(r\"C:\\Users\\HP\\Downloads\\video_20250326_064118.mp4\")  # Change to 0 for webcam\n",
        "\n",
        "# Read the first frame\n",
        "ret, prev_frame = cap.read()\n",
        "prev_frame = cv2.cvtColor(prev_frame, cv2.COLOR_BGR2GRAY)\n",
        "\n",
        "while cap.isOpened():\n",
        "    ret, frame = cap.read()\n",
        "    if not ret:\n",
        "        break\n",
        "\n",
        "    # Convert to grayscale\n",
        "    gray = cv2.cvtColor(frame, cv2.COLOR_BGR2GRAY)\n",
        "\n",
        "    # Compute the absolute difference between the current and previous frame\n",
        "    frame_diff = cv2.absdiff(prev_frame, gray)\n",
        "\n",
        "    # Apply threshold to highlight motion\n",
        "    _, thresh = cv2.threshold(frame_diff, 30, 255, cv2.THRESH_BINARY)\n",
        "\n",
        "    # Display the results\n",
        "    cv2.imshow(\"Frame Difference\", frame_diff)\n",
        "    cv2.imshow(\"Threshold\", thresh)\n",
        "\n",
        "    # Update previous frame\n",
        "    prev_frame = gray\n",
        "\n",
        "    # Break on 'q' key\n",
        "    if cv2.waitKey(30) & 0xFF == ord('q'):\n",
        "        break\n",
        "\n",
        "cap.release()\n",
        "cv2.destroyAllWindows()"
      ]
    },
    {
      "cell_type": "code",
      "execution_count": null,
      "id": "bdac3776-acd3-4e4d-9f70-eebfa6a05e33",
      "metadata": {
        "id": "bdac3776-acd3-4e4d-9f70-eebfa6a05e33"
      },
      "outputs": [],
      "source": []
    }
  ],
  "metadata": {
    "kernelspec": {
      "display_name": "Python 3 (ipykernel)",
      "language": "python",
      "name": "python3"
    },
    "language_info": {
      "codemirror_mode": {
        "name": "ipython",
        "version": 3
      },
      "file_extension": ".py",
      "mimetype": "text/x-python",
      "name": "python",
      "nbconvert_exporter": "python",
      "pygments_lexer": "ipython3",
      "version": "3.12.4"
    },
    "colab": {
      "provenance": []
    }
  },
  "nbformat": 4,
  "nbformat_minor": 5
}